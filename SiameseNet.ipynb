{
  "nbformat": 4,
  "nbformat_minor": 0,
  "metadata": {
    "colab": {
      "name": "SiameseNet.ipynb",
      "version": "0.3.2",
      "provenance": []
    },
    "kernelspec": {
      "name": "python3",
      "display_name": "Python 3"
    },
    "accelerator": "TPU"
  },
  "cells": [
    {
      "metadata": {
        "id": "9l3Eh5u2sANL",
        "colab_type": "text"
      },
      "cell_type": "markdown",
      "source": [
        "### Load images from git and copy it to gdrive path"
      ]
    },
    {
      "metadata": {
        "id": "XunkC1qGdhV7",
        "colab_type": "code",
        "outputId": "7cba7be9-b05d-4cd1-f48a-6085593b4cda",
        "colab": {
          "base_uri": "https://localhost:8080/",
          "height": 1251
        }
      },
      "cell_type": "code",
      "source": [
        "!pip install matplotlib seaborn numpy scipy keras scikit-learn jupyter dill\n",
        "\n",
        "import os\n",
        "\n",
        "from google.colab import drive\n",
        "drive.mount('/content/gdrive')\n",
        "\n",
        "OMNIGLOT_CLONE=\"/content/gdrive/My Drive/data/SiameseNet/omniglot\"\n",
        "OMNIGLOT_PICKLE=\"/content/gdrive/My Drive/data/SiameseNet/pickle\"\n",
        "\n",
        "if not os.path.exists(OMNIGLOT_PICKLE):\n",
        "    os.makedirs(OMNIGLOT_PICKLE)\n",
        "\n",
        "if not os.path.exists(os.path.dirname(OMNIGLOT_CLONE)):\n",
        "    os.makedirs(os.path.dirname(OMNIGLOT_PICKLE))"
      ],
      "execution_count": 2,
      "outputs": [
        {
          "output_type": "stream",
          "text": [
            "Requirement already satisfied: matplotlib in /usr/local/lib/python3.6/dist-packages (2.1.2)\n",
            "Requirement already satisfied: seaborn in /usr/local/lib/python3.6/dist-packages (0.7.1)\n",
            "Requirement already satisfied: numpy in /usr/local/lib/python3.6/dist-packages (1.14.6)\n",
            "Requirement already satisfied: scipy in /usr/local/lib/python3.6/dist-packages (1.1.0)\n",
            "Requirement already satisfied: keras in /usr/local/lib/python3.6/dist-packages (2.2.4)\n",
            "Requirement already satisfied: scikit-learn in /usr/local/lib/python3.6/dist-packages (0.20.2)\n",
            "Requirement already satisfied: jupyter in /usr/local/lib/python3.6/dist-packages (1.0.0)\n",
            "Requirement already satisfied: dill in /usr/local/lib/python3.6/dist-packages (0.2.8.2)\n",
            "Requirement already satisfied: pytz in /usr/local/lib/python3.6/dist-packages (from matplotlib) (2018.9)\n",
            "Requirement already satisfied: cycler>=0.10 in /usr/local/lib/python3.6/dist-packages (from matplotlib) (0.10.0)\n",
            "Requirement already satisfied: pyparsing!=2.0.4,!=2.1.2,!=2.1.6,>=2.0.1 in /usr/local/lib/python3.6/dist-packages (from matplotlib) (2.3.0)\n",
            "Requirement already satisfied: six>=1.10 in /usr/local/lib/python3.6/dist-packages (from matplotlib) (1.11.0)\n",
            "Requirement already satisfied: python-dateutil>=2.1 in /usr/local/lib/python3.6/dist-packages (from matplotlib) (2.5.3)\n",
            "Requirement already satisfied: keras-applications>=1.0.6 in /usr/local/lib/python3.6/dist-packages (from keras) (1.0.6)\n",
            "Requirement already satisfied: keras-preprocessing>=1.0.5 in /usr/local/lib/python3.6/dist-packages (from keras) (1.0.5)\n",
            "Requirement already satisfied: h5py in /usr/local/lib/python3.6/dist-packages (from keras) (2.8.0)\n",
            "Requirement already satisfied: pyyaml in /usr/local/lib/python3.6/dist-packages (from keras) (3.13)\n",
            "Requirement already satisfied: nbconvert in /usr/local/lib/python3.6/dist-packages (from jupyter) (5.4.0)\n",
            "Requirement already satisfied: jupyter-console in /usr/local/lib/python3.6/dist-packages (from jupyter) (6.0.0)\n",
            "Requirement already satisfied: notebook in /usr/local/lib/python3.6/dist-packages (from jupyter) (5.2.2)\n",
            "Requirement already satisfied: qtconsole in /usr/local/lib/python3.6/dist-packages (from jupyter) (4.4.3)\n",
            "Requirement already satisfied: ipywidgets in /usr/local/lib/python3.6/dist-packages (from jupyter) (7.4.2)\n",
            "Requirement already satisfied: ipykernel in /usr/local/lib/python3.6/dist-packages (from jupyter) (4.6.1)\n",
            "Requirement already satisfied: mistune>=0.8.1 in /usr/local/lib/python3.6/dist-packages (from nbconvert->jupyter) (0.8.4)\n",
            "Requirement already satisfied: bleach in /usr/local/lib/python3.6/dist-packages (from nbconvert->jupyter) (3.0.2)\n",
            "Requirement already satisfied: pandocfilters>=1.4.1 in /usr/local/lib/python3.6/dist-packages (from nbconvert->jupyter) (1.4.2)\n",
            "Requirement already satisfied: traitlets>=4.2 in /usr/local/lib/python3.6/dist-packages (from nbconvert->jupyter) (4.3.2)\n",
            "Requirement already satisfied: defusedxml in /usr/local/lib/python3.6/dist-packages (from nbconvert->jupyter) (0.5.0)\n",
            "Requirement already satisfied: nbformat>=4.4 in /usr/local/lib/python3.6/dist-packages (from nbconvert->jupyter) (4.4.0)\n",
            "Requirement already satisfied: jupyter-core in /usr/local/lib/python3.6/dist-packages (from nbconvert->jupyter) (4.4.0)\n",
            "Requirement already satisfied: jinja2 in /usr/local/lib/python3.6/dist-packages (from nbconvert->jupyter) (2.10)\n",
            "Requirement already satisfied: entrypoints>=0.2.2 in /usr/local/lib/python3.6/dist-packages (from nbconvert->jupyter) (0.3)\n",
            "Requirement already satisfied: pygments in /usr/local/lib/python3.6/dist-packages (from nbconvert->jupyter) (2.1.3)\n",
            "Requirement already satisfied: testpath in /usr/local/lib/python3.6/dist-packages (from nbconvert->jupyter) (0.4.2)\n",
            "Collecting prompt-toolkit<2.1.0,>=2.0.0 (from jupyter-console->jupyter)\n",
            "\u001b[?25l  Downloading https://files.pythonhosted.org/packages/d1/e6/adb3be5576f5d27c6faa33f1e9fea8fe5dbd9351db12148de948507e352c/prompt_toolkit-2.0.7-py3-none-any.whl (338kB)\n",
            "\u001b[K    100% |████████████████████████████████| 348kB 26.6MB/s \n",
            "\u001b[?25hRequirement already satisfied: jupyter-client in /usr/local/lib/python3.6/dist-packages (from jupyter-console->jupyter) (5.2.4)\n",
            "Requirement already satisfied: ipython in /usr/local/lib/python3.6/dist-packages (from jupyter-console->jupyter) (5.5.0)\n",
            "Requirement already satisfied: tornado>=4 in /usr/local/lib/python3.6/dist-packages (from notebook->jupyter) (4.5.3)\n",
            "Requirement already satisfied: ipython-genutils in /usr/local/lib/python3.6/dist-packages (from notebook->jupyter) (0.2.0)\n",
            "Requirement already satisfied: terminado>=0.3.3; sys_platform != \"win32\" in /usr/local/lib/python3.6/dist-packages (from notebook->jupyter) (0.8.1)\n",
            "Requirement already satisfied: widgetsnbextension~=3.4.0 in /usr/local/lib/python3.6/dist-packages (from ipywidgets->jupyter) (3.4.2)\n",
            "Requirement already satisfied: webencodings in /usr/local/lib/python3.6/dist-packages (from bleach->nbconvert->jupyter) (0.5.1)\n",
            "Requirement already satisfied: decorator in /usr/local/lib/python3.6/dist-packages (from traitlets>=4.2->nbconvert->jupyter) (4.3.0)\n",
            "Requirement already satisfied: jsonschema!=2.5.0,>=2.4 in /usr/local/lib/python3.6/dist-packages (from nbformat>=4.4->nbconvert->jupyter) (2.6.0)\n",
            "Requirement already satisfied: MarkupSafe>=0.23 in /usr/local/lib/python3.6/dist-packages (from jinja2->nbconvert->jupyter) (1.1.0)\n",
            "Requirement already satisfied: wcwidth in /usr/local/lib/python3.6/dist-packages (from prompt-toolkit<2.1.0,>=2.0.0->jupyter-console->jupyter) (0.1.7)\n",
            "Requirement already satisfied: pyzmq>=13 in /usr/local/lib/python3.6/dist-packages (from jupyter-client->jupyter-console->jupyter) (17.0.0)\n",
            "Requirement already satisfied: pickleshare in /usr/local/lib/python3.6/dist-packages (from ipython->jupyter-console->jupyter) (0.7.5)\n",
            "Requirement already satisfied: setuptools>=18.5 in /usr/local/lib/python3.6/dist-packages (from ipython->jupyter-console->jupyter) (40.6.3)\n",
            "Requirement already satisfied: pexpect; sys_platform != \"win32\" in /usr/local/lib/python3.6/dist-packages (from ipython->jupyter-console->jupyter) (4.6.0)\n",
            "Requirement already satisfied: simplegeneric>0.8 in /usr/local/lib/python3.6/dist-packages (from ipython->jupyter-console->jupyter) (0.8.1)\n",
            "Requirement already satisfied: ptyprocess; os_name != \"nt\" in /usr/local/lib/python3.6/dist-packages (from terminado>=0.3.3; sys_platform != \"win32\"->notebook->jupyter) (0.6.0)\n",
            "\u001b[31mipython 5.5.0 has requirement prompt-toolkit<2.0.0,>=1.0.4, but you'll have prompt-toolkit 2.0.7 which is incompatible.\u001b[0m\n",
            "\u001b[31mcufflinks 0.14.6 has requirement plotly>=3.0.0, but you'll have plotly 1.12.12 which is incompatible.\u001b[0m\n",
            "Installing collected packages: prompt-toolkit\n",
            "  Found existing installation: prompt-toolkit 1.0.15\n",
            "    Uninstalling prompt-toolkit-1.0.15:\n",
            "      Successfully uninstalled prompt-toolkit-1.0.15\n",
            "Successfully installed prompt-toolkit-2.0.7\n",
            "\u001b[0;31;1mWARNING: The following packages were previously imported in this runtime:\n",
            "  [prompt_toolkit]\n",
            "You must restart the runtime in order to use newly installed versions.\u001b[0m\n",
            "Go to this URL in a browser: https://accounts.google.com/o/oauth2/auth?client_id=947318989803-6bn6qk8qdgf4n4g3pfee6491hc0brc4i.apps.googleusercontent.com&redirect_uri=urn%3Aietf%3Awg%3Aoauth%3A2.0%3Aoob&scope=email%20https%3A%2F%2Fwww.googleapis.com%2Fauth%2Fdocs.test%20https%3A%2F%2Fwww.googleapis.com%2Fauth%2Fdrive%20https%3A%2F%2Fwww.googleapis.com%2Fauth%2Fdrive.photos.readonly%20https%3A%2F%2Fwww.googleapis.com%2Fauth%2Fpeopleapi.readonly&response_type=code\n",
            "\n",
            "Enter your authorization code:\n",
            "··········\n",
            "Mounted at /content/gdrive\n"
          ],
          "name": "stdout"
        }
      ]
    },
    {
      "metadata": {
        "id": "jk3kBccafaHK",
        "colab_type": "code",
        "outputId": "f3865e95-3b29-4514-d47d-5b4f762df6fb",
        "colab": {
          "base_uri": "https://localhost:8080/",
          "height": 175
        }
      },
      "cell_type": "code",
      "source": [
        "%%bash\n",
        "DIR='/content/gdrive/My Drive/data/SiameseNet/omniglot'\n",
        "if [ ! -d \"$DIR\" ]\n",
        "then\n",
        "git clone https://github.com/brendenlake/omniglot \"$DIR\"\n",
        "fi\n",
        "#python load_data.py --path $DIR\n",
        "ls \"$DIR\"\n",
        "echo \"--\"\n",
        "ls \"/content/gdrive/My Drive/data/SiameseNet/pickle\"\n",
        "echo \"--\""
      ],
      "execution_count": 3,
      "outputs": [
        {
          "output_type": "stream",
          "text": [
            "LICENSE\n",
            "matlab\n",
            "python\n",
            "README.md\n",
            "--\n",
            "t1.gdoc\n",
            "train.pickle\n",
            "val.pickle\n",
            "--\n"
          ],
          "name": "stdout"
        }
      ]
    },
    {
      "metadata": {
        "id": "yFAhZ5_nrXfX",
        "colab_type": "text"
      },
      "cell_type": "markdown",
      "source": [
        "### Load images, labels and store it as pickle file"
      ]
    },
    {
      "metadata": {
        "id": "2q-7ydkWI_kg",
        "colab_type": "code",
        "colab": {
          "base_uri": "https://localhost:8080/",
          "height": 52
        },
        "outputId": "509f49eb-cf4b-4704-eb5a-3a4165f4eca3"
      },
      "cell_type": "code",
      "source": [
        "import sys\n",
        "import numpy as np\n",
        "from scipy.misc import imread\n",
        "import pickle\n",
        "import os\n",
        "import matplotlib.pyplot as plt\n",
        "import argparse\n",
        "import subprocess\n",
        "\"\"\"Script to preprocess the omniglot dataset and pickle it into an array that's easy\n",
        "    to index my character type\"\"\"\n",
        "\n",
        "#parser = argparse.ArgumentParser()\n",
        "#parser.add_argument(\"--path\",help=\"Path where omniglot folder resides\")\n",
        "#parser.add_argument(\"--save\", help = \"Path to pickle data to.\", default=os.getcwd())\n",
        "#args = parser.parse_args()\n",
        "\n",
        "\n",
        "data_path = os.path.join(os.path.dirname(OMNIGLOT_CLONE),\"omniglot\" ,\"python\")\n",
        "train_folder = os.path.join(data_path,'images_background')\n",
        "valpath = os.path.join(data_path,'images_evaluation')\n",
        "\n",
        "save_path = OMNIGLOT_PICKLE\n",
        "\n",
        "lang_dict = {}\n",
        "\n",
        "\n",
        "def loadimgs(path,n=0):\n",
        "    #if data not already unzipped, unzip it.\n",
        "    if not os.path.exists(path):\n",
        "        print(\"unzipping file: \"+path+\".zip\")\n",
        "        os.chdir(data_path)\n",
        "        #os.system()\n",
        "        subprocess.check_output([\"unzip\", path+\".zip\"])\n",
        "    else:\n",
        "        print(path+\" Exists\")\n",
        "    X=[]\n",
        "    y = []\n",
        "    cat_dict = {}\n",
        "    lang_dict = {}\n",
        "    curr_y = n\n",
        "    #we load every alphabet seperately so we can isolate them later\n",
        "    for alphabet in os.listdir(path):\n",
        "        print(\"loading alphabet: \" + alphabet)\n",
        "        lang_dict[alphabet] = [curr_y,None]\n",
        "        alphabet_path = os.path.join(path,alphabet)\n",
        "        #every letter/category has it's own column in the array, so  load seperately\n",
        "        for letter in os.listdir(alphabet_path):\n",
        "            cat_dict[curr_y] = (alphabet, letter)\n",
        "            category_images=[]\n",
        "            letter_path = os.path.join(alphabet_path, letter)\n",
        "            for filename in os.listdir(letter_path):\n",
        "                image_path = os.path.join(letter_path, filename)\n",
        "                image = imread(image_path)\n",
        "                category_images.append(image)\n",
        "                y.append(curr_y)\n",
        "            try:\n",
        "                X.append(np.stack(category_images))\n",
        "            #edge case  - last one\n",
        "            except ValueError as e:\n",
        "                print(e)\n",
        "                print(\"error - category_images:\", category_images)\n",
        "            curr_y += 1\n",
        "            lang_dict[alphabet][1] = curr_y - 1\n",
        "    y = np.vstack(y)\n",
        "    X = np.stack(X)\n",
        "    return X,y,lang_dict\n",
        "\n",
        "if not os.path.exists(os.path.join(save_path,\"train.pickle\")):\n",
        "    X,y,c=loadimgs(train_folder)\n",
        "    print(\"\\nLoaded Images for Train Folder.\")\n",
        "    with open(os.path.join(save_path,\"train.pickle\"), \"wb\") as f:\n",
        "        print(\"Writing pickle file in {}/{}\\n\".format(save_path, \"train.pickle\"))\n",
        "        pickle.dump((X,c),f)\n",
        "else:\n",
        "    print(os.path.join(save_path,\"train.pickle\"), \"exists. Skipping it.\")\n",
        "\n",
        "if not os.path.exists(os.path.join(save_path,\"val.pickle\")):\n",
        "    X,y,c=loadimgs(valpath)\n",
        "    print(\"\\nLoaded Images for Validation Folder. Writing pickle file\\n\")\n",
        "    with open(os.path.join(save_path,\"val.pickle\"), \"wb\") as f:\n",
        "        print(\"Writing pickle file in {}/{}\\n\".format(save_path, \"val.pickle\"))\n",
        "        pickle.dump((X,c),f)\n",
        "else:\n",
        "    print(os.path.join(save_path,\"val.pickle\"), \"exists. Skipping it.\")\n"
      ],
      "execution_count": 4,
      "outputs": [
        {
          "output_type": "stream",
          "text": [
            "/content/gdrive/My Drive/data/SiameseNet/pickle/train.pickle exists. Skipping it.\n",
            "/content/gdrive/My Drive/data/SiameseNet/pickle/val.pickle exists. Skipping it.\n"
          ],
          "name": "stdout"
        }
      ]
    },
    {
      "metadata": {
        "id": "mJe4QkKxsP6t",
        "colab_type": "text"
      },
      "cell_type": "markdown",
      "source": [
        "### Create Siamese net"
      ]
    },
    {
      "metadata": {
        "id": "008xo4lZdGvB",
        "colab_type": "code",
        "colab": {
          "base_uri": "https://localhost:8080/",
          "height": 34
        },
        "outputId": "4d2a8d0c-da08-4bd2-b59e-70a8e0706027"
      },
      "cell_type": "code",
      "source": [
        "from keras.layers import Input, Conv2D, Lambda, merge, Dense, Flatten,MaxPooling2D\n",
        "from keras.models import Model, Sequential\n",
        "from keras.regularizers import l2\n",
        "from keras import backend as K\n",
        "from keras.optimizers import SGD,Adam\n",
        "from keras.losses import binary_crossentropy\n",
        "import numpy.random as rng\n",
        "import numpy as np\n",
        "import os\n",
        "import pickle\n",
        "import matplotlib.pyplot as plt\n",
        "import seaborn as sns\n",
        "from sklearn.utils import shuffle\n",
        "%matplotlib inline\n",
        "\n",
        "def W_init(shape,name=None):\n",
        "    \"\"\"Initialize weights as in paper\"\"\"\n",
        "    values = rng.normal(loc=0,scale=1e-2,size=shape)\n",
        "    return K.variable(values,name=name)\n",
        "#//TODO: figure out how to initialize layer biases in keras.\n",
        "def b_init(shape,name=None):\n",
        "    \"\"\"Initialize bias as in paper\"\"\"\n",
        "    values=rng.normal(loc=0.5,scale=1e-2,size=shape)\n",
        "    return K.variable(values,name=name)\n",
        "\n",
        "input_shape = (105, 105, 1)\n",
        "left_input = Input(input_shape)\n",
        "right_input = Input(input_shape)\n",
        "#build convnet to use in each siamese 'leg'\n",
        "convnet = Sequential()\n",
        "convnet.add(Conv2D(64,(10,10),activation='relu',input_shape=input_shape,\n",
        "                   kernel_initializer=W_init,kernel_regularizer=l2(2e-4)))\n",
        "convnet.add(MaxPooling2D())\n",
        "convnet.add(Conv2D(128,(7,7),activation='relu',\n",
        "                   kernel_regularizer=l2(2e-4),kernel_initializer=W_init,bias_initializer=b_init))\n",
        "convnet.add(MaxPooling2D())\n",
        "convnet.add(Conv2D(128,(4,4),activation='relu',kernel_initializer=W_init,kernel_regularizer=l2(2e-4),bias_initializer=b_init))\n",
        "convnet.add(MaxPooling2D())\n",
        "convnet.add(Conv2D(256,(4,4),activation='relu',kernel_initializer=W_init,kernel_regularizer=l2(2e-4),bias_initializer=b_init))\n",
        "convnet.add(Flatten())\n",
        "convnet.add(Dense(4096,activation=\"sigmoid\",kernel_regularizer=l2(1e-3),kernel_initializer=W_init,bias_initializer=b_init))\n",
        "\n",
        "#call the convnet Sequential model on each of the input tensors so params will be shared\n",
        "encoded_l = convnet(left_input)\n",
        "encoded_r = convnet(right_input)\n",
        "#layer to merge two encoded inputs with the l1 distance between them\n",
        "L1_layer = Lambda(lambda tensors:K.abs(tensors[0] - tensors[1]))\n",
        "#call this layer on list of two input tensors.\n",
        "L1_distance = L1_layer([encoded_l, encoded_r])\n",
        "prediction = Dense(1,activation='sigmoid',bias_initializer=b_init)(L1_distance)\n",
        "siamese_net = Model(inputs=[left_input,right_input],outputs=prediction)\n",
        "\n",
        "optimizer = Adam(0.00006)\n",
        "#//TODO: get layerwise learning rates and momentum annealing scheme described in paperworking\n",
        "siamese_net.compile(loss=\"binary_crossentropy\",optimizer=optimizer)\n",
        "\n",
        "siamese_net.count_params()\n"
      ],
      "execution_count": 6,
      "outputs": [
        {
          "output_type": "execute_result",
          "data": {
            "text/plain": [
              "38951745"
            ]
          },
          "metadata": {
            "tags": []
          },
          "execution_count": 6
        }
      ]
    },
    {
      "metadata": {
        "id": "syCbjDGydGvI",
        "colab_type": "text"
      },
      "cell_type": "markdown",
      "source": [
        "## Data \n",
        "The data is pickled as an N_classes x n_examples x width x height array, and there is an accompanyng dictionary to specify which indexes belong to which languages."
      ]
    },
    {
      "metadata": {
        "id": "RLXksMsTdGvJ",
        "colab_type": "code",
        "colab": {
          "base_uri": "https://localhost:8080/",
          "height": 107
        },
        "outputId": "4bda8492-4fa1-4b92-938d-d24a783c11c9"
      },
      "cell_type": "code",
      "source": [
        "#PATH = \"/home/soren/Desktop/keras-oneshot\" #CHANGE THIS - path where the pickled data is stored\n",
        "PATH = OMNIGLOT_PICKLE\n",
        "\n",
        "with open(os.path.join(PATH, \"train.pickle\"), \"rb\") as f:\n",
        "    (X,c) = pickle.load(f)\n",
        "\n",
        "with open(os.path.join(PATH, \"val.pickle\"), \"rb\") as f:\n",
        "    (Xval,cval) = pickle.load(f)\n",
        "    \n",
        "print(\"training alphabets\")\n",
        "print(c.keys())\n",
        "print(\"validation alphabets:\")\n",
        "print(cval.keys())"
      ],
      "execution_count": 7,
      "outputs": [
        {
          "output_type": "stream",
          "text": [
            "training alphabets\n",
            "dict_keys(['Alphabet_of_the_Magi', 'Anglo-Saxon_Futhorc', 'Arcadian', 'Armenian', 'Asomtavruli_(Georgian)', 'Balinese', 'Bengali', 'Blackfoot_(Canadian_Aboriginal_Syllabics)', 'Braille', 'Burmese_(Myanmar)', 'Cyrillic', 'Early_Aramaic', 'Futurama', 'Grantha', 'Greek', 'Gujarati', 'Hebrew', 'Inuktitut_(Canadian_Aboriginal_Syllabics)', 'Japanese_(hiragana)', 'Japanese_(katakana)', 'Korean', 'Latin', 'Malay_(Jawi_-_Arabic)', 'Mkhedruli_(Georgian)', 'N_Ko', 'Ojibwe_(Canadian_Aboriginal_Syllabics)', 'Sanskrit', 'Syriac_(Estrangelo)', 'Tagalog', 'Tifinagh'])\n",
            "validation alphabets:\n",
            "dict_keys(['Angelic', 'Atemayar_Qelisayer', 'Atlantean', 'Aurek-Besh', 'Avesta', 'Ge_ez', 'Glagolitic', 'Gurmukhi', 'Kannada', 'Keble', 'Malayalam', 'Manipuri', 'Mongolian', 'Old_Church_Slavonic_(Cyrillic)', 'Oriya', 'Sylheti', 'Syriac_(Serto)', 'Tengwar', 'Tibetan', 'ULOG'])\n"
          ],
          "name": "stdout"
        }
      ]
    },
    {
      "metadata": {
        "scrolled": false,
        "id": "sXHY1q6udGvM",
        "colab_type": "code",
        "colab": {
          "base_uri": "https://localhost:8080/",
          "height": 52
        },
        "outputId": "88566f2b-fddf-4fe6-a3d9-040462168641"
      },
      "cell_type": "code",
      "source": [
        "class Siamese_Loader:\n",
        "    \"\"\"For loading batches and testing tasks to a siamese net\"\"\"\n",
        "    def __init__(self, path, data_subsets = [\"train\", \"val\"]):\n",
        "        self.data = {}\n",
        "        self.categories = {}\n",
        "        self.info = {}\n",
        "        \n",
        "        for name in data_subsets:\n",
        "            file_path = os.path.join(path, name + \".pickle\")\n",
        "            print(\"loading data from {}\".format(file_path))\n",
        "            with open(file_path,\"rb\") as f:\n",
        "                (X,c) = pickle.load(f)\n",
        "                self.data[name] = X\n",
        "                self.categories[name] = c\n",
        "\n",
        "    def get_batch(self,batch_size,s=\"train\"):\n",
        "        \"\"\"Create batch of n pairs, half same class, half different class\"\"\"\n",
        "        X=self.data[s]\n",
        "        n_classes, n_examples, w, h = X.shape\n",
        "\n",
        "        #randomly sample several classes to use in the batch\n",
        "        categories = rng.choice(n_classes,size=(batch_size,),replace=False)\n",
        "        #initialize 2 empty arrays for the input image batch\n",
        "        pairs=[np.zeros((batch_size, h, w,1)) for i in range(2)]\n",
        "        #initialize vector for the targets, and make one half of it '1's, so 2nd half of batch has same class\n",
        "        targets=np.zeros((batch_size,))\n",
        "        targets[batch_size//2:] = 1\n",
        "        for i in range(batch_size):\n",
        "            category = categories[i]\n",
        "            idx_1 = rng.randint(0, n_examples)\n",
        "            pairs[0][i,:,:,:] = X[category, idx_1].reshape(w, h, 1)\n",
        "            idx_2 = rng.randint(0, n_examples)\n",
        "            #pick images of same class for 1st half, different for 2nd\n",
        "            if i >= batch_size // 2:\n",
        "                category_2 = category  \n",
        "            else: \n",
        "                #add a random number to the category modulo n classes to ensure 2nd image has\n",
        "                # ..different category\n",
        "                category_2 = (category + rng.randint(1,n_classes)) % n_classes\n",
        "            pairs[1][i,:,:,:] = X[category_2,idx_2].reshape(w, h,1)\n",
        "        return pairs, targets\n",
        "    \n",
        "    def generate(self, batch_size, s=\"train\"):\n",
        "        \"\"\"a generator for batches, so model.fit_generator can be used. \"\"\"\n",
        "        while True:\n",
        "            pairs, targets = self.get_batch(batch_size,s)\n",
        "            yield (pairs, targets)    \n",
        "\n",
        "    def make_oneshot_task(self,N,s=\"val\",language=None):\n",
        "        \"\"\"Create pairs of test image, support set for testing N way one-shot learning. \"\"\"\n",
        "        X=self.data[s]\n",
        "        n_classes, n_examples, w, h = X.shape\n",
        "        indices = rng.randint(0,n_examples,size=(N,))\n",
        "        if language is not None:\n",
        "            low, high = self.categories[s][language]\n",
        "            if N > high - low:\n",
        "                raise ValueError(\"This language ({}) has less than {} letters\".format(language, N))\n",
        "            categories = rng.choice(range(low,high),size=(N,),replace=False)\n",
        "            \n",
        "        else:#if no language specified just pick a bunch of random letters\n",
        "            categories = rng.choice(range(n_classes),size=(N,),replace=False)            \n",
        "        true_category = categories[0]\n",
        "        ex1, ex2 = rng.choice(n_examples,replace=False,size=(2,))\n",
        "        test_image = np.asarray([X[true_category,ex1,:,:]]*N).reshape(N, w, h,1)\n",
        "        support_set = X[categories,indices,:,:]\n",
        "        support_set[0,:,:] = X[true_category,ex2]\n",
        "        support_set = support_set.reshape(N, w, h,1)\n",
        "        targets = np.zeros((N,))\n",
        "        targets[0] = 1\n",
        "        targets, test_image, support_set = shuffle(targets, test_image, support_set)\n",
        "        pairs = [test_image,support_set]\n",
        "\n",
        "        return pairs, targets\n",
        "    \n",
        "    def test_oneshot(self,model,N,k,s=\"val\",verbose=0):\n",
        "        \"\"\"Test average N way oneshot learning accuracy of a siamese neural net over k one-shot tasks\"\"\"\n",
        "        n_correct = 0\n",
        "        if verbose:\n",
        "            print(\"Evaluating model on {} random {} way one-shot learning tasks ...\".format(k,N))\n",
        "        for i in range(k):\n",
        "            inputs, targets = self.make_oneshot_task(N,s)\n",
        "            probs = model.predict(inputs)\n",
        "            if np.argmax(probs) == np.argmax(targets):\n",
        "                n_correct+=1\n",
        "        percent_correct = (100.0*n_correct / k)\n",
        "        if verbose:\n",
        "            print(\"Got an average of {}% {} way one-shot learning accuracy\".format(percent_correct,N))\n",
        "        return percent_correct\n",
        "    \n",
        "    def train(self, model, epochs, verbosity):\n",
        "        model.fit_generator(self.generate(batch_size),\n",
        "                            \n",
        "                             )\n",
        "    \n",
        "    \n",
        "#Instantiate the class\n",
        "loader = Siamese_Loader(PATH)"
      ],
      "execution_count": 9,
      "outputs": [
        {
          "output_type": "stream",
          "text": [
            "loading data from /content/gdrive/My Drive/data/SiameseNet/pickle/train.pickle\n",
            "loading data from /content/gdrive/My Drive/data/SiameseNet/pickle/val.pickle\n"
          ],
          "name": "stdout"
        }
      ]
    },
    {
      "metadata": {
        "id": "S9oQbq_YdGvP",
        "colab_type": "code",
        "colab": {
          "base_uri": "https://localhost:8080/",
          "height": 248
        },
        "outputId": "87881eb2-1655-475d-d368-58efa2d8d3a1"
      },
      "cell_type": "code",
      "source": [
        "\n",
        "def concat_images(X):\n",
        "    \"\"\"Concatenates a bunch of images into a big matrix for plotting purposes.\"\"\"\n",
        "    nc,h,w,_ = X.shape\n",
        "    X = X.reshape(nc,h,w)\n",
        "    n = np.ceil(np.sqrt(nc)).astype(\"int8\")\n",
        "    img = np.zeros((n*w,n*h))\n",
        "    x = 0\n",
        "    y = 0\n",
        "    for example in range(nc):\n",
        "        img[x*w:(x+1)*w,y*h:(y+1)*h] = X[example]\n",
        "        y += 1\n",
        "        if y >= n:\n",
        "            y = 0\n",
        "            x += 1\n",
        "    return img\n",
        "\n",
        "\n",
        "def plot_oneshot_task(pairs):\n",
        "    \"\"\"Takes a one-shot task given to a siamese net and  \"\"\"\n",
        "    fig,(ax1,ax2) = plt.subplots(2)\n",
        "    ax1.matshow(pairs[0][0].reshape(105,105),cmap='gray')\n",
        "    img = concat_images(pairs[1])\n",
        "    ax1.get_yaxis().set_visible(False)\n",
        "    ax1.get_xaxis().set_visible(False)\n",
        "    ax2.matshow(img,cmap='gray')\n",
        "    plt.xticks([])\n",
        "    plt.yticks([])\n",
        "    plt.show()\n",
        "#example of a one-shot learning task\n",
        "pairs, targets = loader.make_oneshot_task(20,\"train\",\"Japanese_(katakana)\")\n",
        "plot_oneshot_task(pairs)\n"
      ],
      "execution_count": 10,
      "outputs": [
        {
          "output_type": "display_data",
          "data": {
            "image/png": "[encoded data removed]",
            "text/plain": [
              "<matplotlib.figure.Figure at 0x7fa319c2be48>"
            ]
          },
          "metadata": {
            "tags": []
          }
        }
      ]
    },
    {
      "metadata": {
        "scrolled": true,
        "id": "pZFpDQngdGvT",
        "colab_type": "code",
        "colab": {
          "base_uri": "https://localhost:8080/",
          "height": 1065
        },
        "outputId": "0e68941b-6fe7-44c0-d4c6-a3a5bf17f672"
      },
      "cell_type": "code",
      "source": [
        "\n",
        "#Training loop\n",
        "print(\"!\")\n",
        "evaluate_every = 1 # interval for evaluating on one-shot tasks\n",
        "loss_every=50 # interval for printing loss (iterations)\n",
        "batch_size = 32\n",
        "n_iter = 90000\n",
        "N_way = 20 # how many classes for testing one-shot tasks>\n",
        "n_val = 250 #how mahy one-shot tasks to validate on?\n",
        "best = -1\n",
        "weights_path = os.path.join(PATH, \"weights\")\n",
        "print(\"training\")\n",
        "for i in range(1, n_iter):\n",
        "    (inputs,targets)=loader.get_batch(batch_size)\n",
        "    loss=siamese_net.train_on_batch(inputs,targets)\n",
        "    print(loss)\n",
        "    if i % evaluate_every == 0:\n",
        "        print(\"evaluating\")\n",
        "        val_acc = loader.test_oneshot(siamese_net,N_way,n_val,verbose=True)\n",
        "        if val_acc >= best:\n",
        "            print(\"saving\")\n",
        "            siamese_net.save(weights_path)\n",
        "            best=val_acc\n",
        "\n",
        "    if i % loss_every == 0:\n",
        "        print(\"iteration {}, training loss: {:.2f},\".format(i,loss))\n"
      ],
      "execution_count": 11,
      "outputs": [
        {
          "output_type": "stream",
          "text": [
            "!\n",
            "training\n",
            "4.5051312\n",
            "evaluating\n",
            "Evaluating model on 250 random 20 way one-shot learning tasks ...\n"
          ],
          "name": "stdout"
        },
        {
          "output_type": "error",
          "ename": "KeyboardInterrupt",
          "evalue": "ignored",
          "traceback": [
            "\u001b[0;31m---------------------------------------------------------------------------\u001b[0m",
            "\u001b[0;31mKeyboardInterrupt\u001b[0m                         Traceback (most recent call last)",
            "\u001b[0;32m<ipython-input-11-7cabb25bc3c0>\u001b[0m in \u001b[0;36m<module>\u001b[0;34m()\u001b[0m\n\u001b[1;32m     15\u001b[0m     \u001b[0;32mif\u001b[0m \u001b[0mi\u001b[0m \u001b[0;34m%\u001b[0m \u001b[0mevaluate_every\u001b[0m \u001b[0;34m==\u001b[0m \u001b[0;36m0\u001b[0m\u001b[0;34m:\u001b[0m\u001b[0;34m\u001b[0m\u001b[0;34m\u001b[0m\u001b[0m\n\u001b[1;32m     16\u001b[0m         \u001b[0mprint\u001b[0m\u001b[0;34m(\u001b[0m\u001b[0;34m\"evaluating\"\u001b[0m\u001b[0;34m)\u001b[0m\u001b[0;34m\u001b[0m\u001b[0;34m\u001b[0m\u001b[0m\n\u001b[0;32m---> 17\u001b[0;31m         \u001b[0mval_acc\u001b[0m \u001b[0;34m=\u001b[0m \u001b[0mloader\u001b[0m\u001b[0;34m.\u001b[0m\u001b[0mtest_oneshot\u001b[0m\u001b[0;34m(\u001b[0m\u001b[0msiamese_net\u001b[0m\u001b[0;34m,\u001b[0m\u001b[0mN_way\u001b[0m\u001b[0;34m,\u001b[0m\u001b[0mn_val\u001b[0m\u001b[0;34m,\u001b[0m\u001b[0mverbose\u001b[0m\u001b[0;34m=\u001b[0m\u001b[0;32mTrue\u001b[0m\u001b[0;34m)\u001b[0m\u001b[0;34m\u001b[0m\u001b[0;34m\u001b[0m\u001b[0m\n\u001b[0m\u001b[1;32m     18\u001b[0m         \u001b[0;32mif\u001b[0m \u001b[0mval_acc\u001b[0m \u001b[0;34m>=\u001b[0m \u001b[0mbest\u001b[0m\u001b[0;34m:\u001b[0m\u001b[0;34m\u001b[0m\u001b[0;34m\u001b[0m\u001b[0m\n\u001b[1;32m     19\u001b[0m             \u001b[0mprint\u001b[0m\u001b[0;34m(\u001b[0m\u001b[0;34m\"saving\"\u001b[0m\u001b[0;34m)\u001b[0m\u001b[0;34m\u001b[0m\u001b[0;34m\u001b[0m\u001b[0m\n",
            "\u001b[0;32m<ipython-input-9-72e05c4b4c66>\u001b[0m in \u001b[0;36mtest_oneshot\u001b[0;34m(self, model, N, k, s, verbose)\u001b[0m\n\u001b[1;32m     80\u001b[0m         \u001b[0;32mfor\u001b[0m \u001b[0mi\u001b[0m \u001b[0;32min\u001b[0m \u001b[0mrange\u001b[0m\u001b[0;34m(\u001b[0m\u001b[0mk\u001b[0m\u001b[0;34m)\u001b[0m\u001b[0;34m:\u001b[0m\u001b[0;34m\u001b[0m\u001b[0;34m\u001b[0m\u001b[0m\n\u001b[1;32m     81\u001b[0m             \u001b[0minputs\u001b[0m\u001b[0;34m,\u001b[0m \u001b[0mtargets\u001b[0m \u001b[0;34m=\u001b[0m \u001b[0mself\u001b[0m\u001b[0;34m.\u001b[0m\u001b[0mmake_oneshot_task\u001b[0m\u001b[0;34m(\u001b[0m\u001b[0mN\u001b[0m\u001b[0;34m,\u001b[0m\u001b[0ms\u001b[0m\u001b[0;34m)\u001b[0m\u001b[0;34m\u001b[0m\u001b[0;34m\u001b[0m\u001b[0m\n\u001b[0;32m---> 82\u001b[0;31m             \u001b[0mprobs\u001b[0m \u001b[0;34m=\u001b[0m \u001b[0mmodel\u001b[0m\u001b[0;34m.\u001b[0m\u001b[0mpredict\u001b[0m\u001b[0;34m(\u001b[0m\u001b[0minputs\u001b[0m\u001b[0;34m)\u001b[0m\u001b[0;34m\u001b[0m\u001b[0;34m\u001b[0m\u001b[0m\n\u001b[0m\u001b[1;32m     83\u001b[0m             \u001b[0;32mif\u001b[0m \u001b[0mnp\u001b[0m\u001b[0;34m.\u001b[0m\u001b[0margmax\u001b[0m\u001b[0;34m(\u001b[0m\u001b[0mprobs\u001b[0m\u001b[0;34m)\u001b[0m \u001b[0;34m==\u001b[0m \u001b[0mnp\u001b[0m\u001b[0;34m.\u001b[0m\u001b[0margmax\u001b[0m\u001b[0;34m(\u001b[0m\u001b[0mtargets\u001b[0m\u001b[0;34m)\u001b[0m\u001b[0;34m:\u001b[0m\u001b[0;34m\u001b[0m\u001b[0;34m\u001b[0m\u001b[0m\n\u001b[1;32m     84\u001b[0m                 \u001b[0mn_correct\u001b[0m\u001b[0;34m+=\u001b[0m\u001b[0;36m1\u001b[0m\u001b[0;34m\u001b[0m\u001b[0;34m\u001b[0m\u001b[0m\n",
            "\u001b[0;32m/usr/local/lib/python3.6/dist-packages/keras/engine/training.py\u001b[0m in \u001b[0;36mpredict\u001b[0;34m(self, x, batch_size, verbose, steps)\u001b[0m\n\u001b[1;32m   1167\u001b[0m                                             \u001b[0mbatch_size\u001b[0m\u001b[0;34m=\u001b[0m\u001b[0mbatch_size\u001b[0m\u001b[0;34m,\u001b[0m\u001b[0;34m\u001b[0m\u001b[0;34m\u001b[0m\u001b[0m\n\u001b[1;32m   1168\u001b[0m                                             \u001b[0mverbose\u001b[0m\u001b[0;34m=\u001b[0m\u001b[0mverbose\u001b[0m\u001b[0;34m,\u001b[0m\u001b[0;34m\u001b[0m\u001b[0;34m\u001b[0m\u001b[0m\n\u001b[0;32m-> 1169\u001b[0;31m                                             steps=steps)\n\u001b[0m\u001b[1;32m   1170\u001b[0m \u001b[0;34m\u001b[0m\u001b[0m\n\u001b[1;32m   1171\u001b[0m     def train_on_batch(self, x, y,\n",
            "\u001b[0;32m/usr/local/lib/python3.6/dist-packages/keras/engine/training_arrays.py\u001b[0m in \u001b[0;36mpredict_loop\u001b[0;34m(model, f, ins, batch_size, verbose, steps)\u001b[0m\n\u001b[1;32m    292\u001b[0m                 \u001b[0mins_batch\u001b[0m\u001b[0;34m[\u001b[0m\u001b[0mi\u001b[0m\u001b[0;34m]\u001b[0m \u001b[0;34m=\u001b[0m \u001b[0mins_batch\u001b[0m\u001b[0;34m[\u001b[0m\u001b[0mi\u001b[0m\u001b[0;34m]\u001b[0m\u001b[0;34m.\u001b[0m\u001b[0mtoarray\u001b[0m\u001b[0;34m(\u001b[0m\u001b[0;34m)\u001b[0m\u001b[0;34m\u001b[0m\u001b[0;34m\u001b[0m\u001b[0m\n\u001b[1;32m    293\u001b[0m \u001b[0;34m\u001b[0m\u001b[0m\n\u001b[0;32m--> 294\u001b[0;31m             \u001b[0mbatch_outs\u001b[0m \u001b[0;34m=\u001b[0m \u001b[0mf\u001b[0m\u001b[0;34m(\u001b[0m\u001b[0mins_batch\u001b[0m\u001b[0;34m)\u001b[0m\u001b[0;34m\u001b[0m\u001b[0;34m\u001b[0m\u001b[0m\n\u001b[0m\u001b[1;32m    295\u001b[0m             \u001b[0mbatch_outs\u001b[0m \u001b[0;34m=\u001b[0m \u001b[0mto_list\u001b[0m\u001b[0;34m(\u001b[0m\u001b[0mbatch_outs\u001b[0m\u001b[0;34m)\u001b[0m\u001b[0;34m\u001b[0m\u001b[0;34m\u001b[0m\u001b[0m\n\u001b[1;32m    296\u001b[0m             \u001b[0;32mif\u001b[0m \u001b[0mbatch_index\u001b[0m \u001b[0;34m==\u001b[0m \u001b[0;36m0\u001b[0m\u001b[0;34m:\u001b[0m\u001b[0;34m\u001b[0m\u001b[0;34m\u001b[0m\u001b[0m\n",
            "\u001b[0;32m/usr/local/lib/python3.6/dist-packages/keras/backend/tensorflow_backend.py\u001b[0m in \u001b[0;36m__call__\u001b[0;34m(self, inputs)\u001b[0m\n\u001b[1;32m   2713\u001b[0m                 \u001b[0;32mreturn\u001b[0m \u001b[0mself\u001b[0m\u001b[0;34m.\u001b[0m\u001b[0m_legacy_call\u001b[0m\u001b[0;34m(\u001b[0m\u001b[0minputs\u001b[0m\u001b[0;34m)\u001b[0m\u001b[0;34m\u001b[0m\u001b[0;34m\u001b[0m\u001b[0m\n\u001b[1;32m   2714\u001b[0m \u001b[0;34m\u001b[0m\u001b[0m\n\u001b[0;32m-> 2715\u001b[0;31m             \u001b[0;32mreturn\u001b[0m \u001b[0mself\u001b[0m\u001b[0;34m.\u001b[0m\u001b[0m_call\u001b[0m\u001b[0;34m(\u001b[0m\u001b[0minputs\u001b[0m\u001b[0;34m)\u001b[0m\u001b[0;34m\u001b[0m\u001b[0;34m\u001b[0m\u001b[0m\n\u001b[0m\u001b[1;32m   2716\u001b[0m         \u001b[0;32melse\u001b[0m\u001b[0;34m:\u001b[0m\u001b[0;34m\u001b[0m\u001b[0;34m\u001b[0m\u001b[0m\n\u001b[1;32m   2717\u001b[0m             \u001b[0;32mif\u001b[0m \u001b[0mpy_any\u001b[0m\u001b[0;34m(\u001b[0m\u001b[0mis_tensor\u001b[0m\u001b[0;34m(\u001b[0m\u001b[0mx\u001b[0m\u001b[0;34m)\u001b[0m \u001b[0;32mfor\u001b[0m \u001b[0mx\u001b[0m \u001b[0;32min\u001b[0m \u001b[0minputs\u001b[0m\u001b[0;34m)\u001b[0m\u001b[0;34m:\u001b[0m\u001b[0;34m\u001b[0m\u001b[0;34m\u001b[0m\u001b[0m\n",
            "\u001b[0;32m/usr/local/lib/python3.6/dist-packages/keras/backend/tensorflow_backend.py\u001b[0m in \u001b[0;36m_call\u001b[0;34m(self, inputs)\u001b[0m\n\u001b[1;32m   2673\u001b[0m             \u001b[0mfetched\u001b[0m \u001b[0;34m=\u001b[0m \u001b[0mself\u001b[0m\u001b[0;34m.\u001b[0m\u001b[0m_callable_fn\u001b[0m\u001b[0;34m(\u001b[0m\u001b[0;34m*\u001b[0m\u001b[0marray_vals\u001b[0m\u001b[0;34m,\u001b[0m \u001b[0mrun_metadata\u001b[0m\u001b[0;34m=\u001b[0m\u001b[0mself\u001b[0m\u001b[0;34m.\u001b[0m\u001b[0mrun_metadata\u001b[0m\u001b[0;34m)\u001b[0m\u001b[0;34m\u001b[0m\u001b[0;34m\u001b[0m\u001b[0m\n\u001b[1;32m   2674\u001b[0m         \u001b[0;32melse\u001b[0m\u001b[0;34m:\u001b[0m\u001b[0;34m\u001b[0m\u001b[0;34m\u001b[0m\u001b[0m\n\u001b[0;32m-> 2675\u001b[0;31m             \u001b[0mfetched\u001b[0m \u001b[0;34m=\u001b[0m \u001b[0mself\u001b[0m\u001b[0;34m.\u001b[0m\u001b[0m_callable_fn\u001b[0m\u001b[0;34m(\u001b[0m\u001b[0;34m*\u001b[0m\u001b[0marray_vals\u001b[0m\u001b[0;34m)\u001b[0m\u001b[0;34m\u001b[0m\u001b[0;34m\u001b[0m\u001b[0m\n\u001b[0m\u001b[1;32m   2676\u001b[0m         \u001b[0;32mreturn\u001b[0m \u001b[0mfetched\u001b[0m\u001b[0;34m[\u001b[0m\u001b[0;34m:\u001b[0m\u001b[0mlen\u001b[0m\u001b[0;34m(\u001b[0m\u001b[0mself\u001b[0m\u001b[0;34m.\u001b[0m\u001b[0moutputs\u001b[0m\u001b[0;34m)\u001b[0m\u001b[0;34m]\u001b[0m\u001b[0;34m\u001b[0m\u001b[0;34m\u001b[0m\u001b[0m\n\u001b[1;32m   2677\u001b[0m \u001b[0;34m\u001b[0m\u001b[0m\n",
            "\u001b[0;32m/usr/local/lib/python3.6/dist-packages/tensorflow/python/client/session.py\u001b[0m in \u001b[0;36m__call__\u001b[0;34m(self, *args, **kwargs)\u001b[0m\n\u001b[1;32m   1437\u001b[0m           ret = tf_session.TF_SessionRunCallable(\n\u001b[1;32m   1438\u001b[0m               \u001b[0mself\u001b[0m\u001b[0;34m.\u001b[0m\u001b[0m_session\u001b[0m\u001b[0;34m.\u001b[0m\u001b[0m_session\u001b[0m\u001b[0;34m,\u001b[0m \u001b[0mself\u001b[0m\u001b[0;34m.\u001b[0m\u001b[0m_handle\u001b[0m\u001b[0;34m,\u001b[0m \u001b[0margs\u001b[0m\u001b[0;34m,\u001b[0m \u001b[0mstatus\u001b[0m\u001b[0;34m,\u001b[0m\u001b[0;34m\u001b[0m\u001b[0;34m\u001b[0m\u001b[0m\n\u001b[0;32m-> 1439\u001b[0;31m               run_metadata_ptr)\n\u001b[0m\u001b[1;32m   1440\u001b[0m         \u001b[0;32mif\u001b[0m \u001b[0mrun_metadata\u001b[0m\u001b[0;34m:\u001b[0m\u001b[0;34m\u001b[0m\u001b[0;34m\u001b[0m\u001b[0m\n\u001b[1;32m   1441\u001b[0m           \u001b[0mproto_data\u001b[0m \u001b[0;34m=\u001b[0m \u001b[0mtf_session\u001b[0m\u001b[0;34m.\u001b[0m\u001b[0mTF_GetBuffer\u001b[0m\u001b[0;34m(\u001b[0m\u001b[0mrun_metadata_ptr\u001b[0m\u001b[0;34m)\u001b[0m\u001b[0;34m\u001b[0m\u001b[0;34m\u001b[0m\u001b[0m\n",
            "\u001b[0;31mKeyboardInterrupt\u001b[0m: "
          ]
        }
      ]
    },
    {
      "metadata": {
        "id": "H54WMcAMdGvW",
        "colab_type": "code",
        "colab": {}
      },
      "cell_type": "code",
      "source": [
        "def nearest_neighbour_correct(pairs,targets):\n",
        "    \"\"\"returns 1 if nearest neighbour gets the correct answer for a one-shot task\n",
        "        given by (pairs, targets)\"\"\"\n",
        "    L2_distances = np.zeros_like(targets)\n",
        "    for i in range(len(targets)):\n",
        "        L2_distances[i] = np.sum(np.sqrt(pairs[0][i]**2 - pairs[1][i]**2))\n",
        "    if np.argmin(L2_distances) == np.argmax(targets):\n",
        "        return 1\n",
        "    return 0\n",
        "\n",
        "\n",
        "def test_nn_accuracy(N_ways,n_trials,loader):\n",
        "    \"\"\"Returns accuracy of one shot \"\"\"\n",
        "    print(\"Evaluating nearest neighbour on {} unique {} way one-shot learning tasks ...\".format(n_trials,N_ways))\n",
        "\n",
        "    n_right = 0\n",
        "    \n",
        "    for i in range(n_trials):\n",
        "        pairs,targets = loader.make_oneshot_task(N_ways,\"val\")\n",
        "        correct = nearest_neighbour_correct(pairs,targets)\n",
        "        n_right += correct\n",
        "    return 100.0 * n_right / n_trials\n",
        "\n",
        "\n",
        "ways = np.arange(1, 60, 2)\n",
        "resume =  False\n",
        "val_accs, train_accs,nn_accs = [], [], []\n",
        "trials = 450\n",
        "for N in ways:\n",
        "    val_accs.append(loader.test_oneshot(siamese_net, N,trials, \"val\", verbose=True))\n",
        "    train_accs.append(loader.test_oneshot(siamese_net, N,trials, \"train\", verbose=True))\n",
        "    nn_accs.append(test_nn_accuracy(N,trials, loader))\n",
        "    \n",
        "#plot the accuracy vs num categories for each\n",
        "plt.plot(ways, val_accs, \"m\")\n",
        "plt.plot(ways, train_accs, \"y\")\n",
        "plt.plot(ways, nn_accs, \"c\")\n",
        "\n",
        "plt.plot(ways,100.0/ways,\"r\")\n",
        "plt.show()"
      ],
      "execution_count": 0,
      "outputs": []
    },
    {
      "metadata": {
        "id": "DZJfToYGdGvY",
        "colab_type": "code",
        "colab": {}
      },
      "cell_type": "code",
      "source": [
        "fig,ax = plt.subplots(1)\n",
        "ax.plot(ways,val_accs,\"m\",label=\"Siamese(val set)\")\n",
        "ax.plot(ways,train_accs,\"y\",label=\"Siamese(train set)\")\n",
        "plt.plot(ways,nn_accs,label=\"Nearest neighbour\")\n",
        "\n",
        "ax.plot(ways,100.0/ways,\"g\",label=\"Random guessing\")\n",
        "plt.xlabel(\"Number of possible classes in one-shot tasks\")\n",
        "plt.ylabel(\"% Accuracy\")\n",
        "plt.title(\"Omiglot One-Shot Learning Performance of a Siamese Network\")\n",
        "box = ax.get_position()\n",
        "ax.set_position([box.x0, box.y0, box.width * 0.8, box.height])\n",
        "ax.legend(loc='center left', bbox_to_anchor=(1, 0.5))\n",
        "inputs,targets = loader.make_oneshot_task(20,\"val\")\n",
        "plt.show()\n",
        "\n",
        "print(inputs[0].shape)\n",
        "plot_oneshot_task(inputs)\n",
        "p=siamese_net.predict(inputs)\n",
        "print(p)"
      ],
      "execution_count": 0,
      "outputs": []
    },
    {
      "metadata": {
        "id": "z1OI7LH0dGvb",
        "colab_type": "code",
        "colab": {}
      },
      "cell_type": "code",
      "source": [
        "\n",
        "a=test_nn_accuracy(3,500,loader)\n",
        "print(a)"
      ],
      "execution_count": 0,
      "outputs": []
    },
    {
      "metadata": {
        "id": "7D10x2YYdGvd",
        "colab_type": "code",
        "colab": {}
      },
      "cell_type": "code",
      "source": [
        ""
      ],
      "execution_count": 0,
      "outputs": []
    }
  ]
}